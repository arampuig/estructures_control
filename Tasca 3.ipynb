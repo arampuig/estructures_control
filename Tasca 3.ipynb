{
 "cells": [
  {
   "cell_type": "code",
   "execution_count": null,
   "metadata": {},
   "outputs": [],
   "source": [
    "- Exercici 1\n",
    "L'exercici consisteix a crear un programa que et classifiqui una variable numèrica\n",
    "en funció de l’escala Suspès/Aprovat/Notable/Excel·lent."
   ]
  },
  {
   "cell_type": "code",
   "execution_count": 29,
   "metadata": {},
   "outputs": [
    {
     "name": "stdout",
     "output_type": "stream",
     "text": [
      "6.2\n",
      "Aprovat\n"
     ]
    }
   ],
   "source": [
    "def puntuacio(x):\n",
    "    \n",
    "    if x >= 9:\n",
    "        print(\"Excel·lent\")\n",
    "    if 7<= x and x < 9:\n",
    "        print(\"Notable\")\n",
    "    if 5<= x and x < 7:\n",
    "        print(\"Aprovat\")\n",
    "    if x < 5:\n",
    "        print(\"Suspès\")\n",
    "        \n",
    "puntuacio(float(input()))"
   ]
  },
  {
   "cell_type": "code",
   "execution_count": null,
   "metadata": {},
   "outputs": [],
   "source": [
    "- Exercici 2\n",
    "Utilitzant el següent tutorial Programiz: Python Input, Output and Import crea un programa que et pregunti dos números.\n",
    "T’ha de mostrar un missatge dient si el primer és més gran, el segon és més gran o són iguals."
   ]
  },
  {
   "cell_type": "code",
   "execution_count": 35,
   "metadata": {},
   "outputs": [
    {
     "name": "stdout",
     "output_type": "stream",
     "text": [
      "-10\n",
      "1\n",
      "El segon és més gran\n"
     ]
    }
   ],
   "source": [
    "def mes_gran(primer, segon):\n",
    "    \n",
    "    if primer > segon:\n",
    "        print(\"El primer és més gran\")\n",
    "        \n",
    "    if segon > primer:\n",
    "        print(\"El segon és més gran\")\n",
    "        \n",
    "    else:\n",
    "        print(\"Son iguals\")\n",
    "        \n",
    "mes_gran(float(input()), float(input()))"
   ]
  },
  {
   "cell_type": "code",
   "execution_count": null,
   "metadata": {},
   "outputs": [],
   "source": [
    "- Exercici 3\n",
    "Crea un programa que et pregunti el teu nom, i et demani un número. Si el número és 0, hauria de mostrar un missatge d’error. \n",
    "En cas contrari, hauria de mostrar el nom repetit tants cops com indiqui el número. Per exemple, “Joan Joan Joan”."
   ]
  },
  {
   "cell_type": "code",
   "execution_count": 5,
   "metadata": {},
   "outputs": [
    {
     "name": "stdout",
     "output_type": "stream",
     "text": [
      "Escriu el teu nom:Aram\n",
      "Escriu un numero enter:3\n",
      "Aram\n",
      "Aram\n",
      "Aram\n"
     ]
    }
   ],
   "source": [
    "def nom_numero(nom, numero):\n",
    "    \n",
    "    if numero == 0:\n",
    "        raise TypeError(\"Introdueix un numero diferent a 0\")\n",
    "        \n",
    "    else:\n",
    "        for i in range (0, numero):\n",
    "            print(nom)\n",
    "            \n",
    "nom_numero((input('Escriu el teu nom:')), int(input('Escriu un numero enter:')))"
   ]
  },
  {
   "cell_type": "code",
   "execution_count": null,
   "metadata": {},
   "outputs": [],
   "source": [
    "- Exercici 4\n",
    "Crea un programa que donada una llista qualsevol, et digui si es simètrica o no. Si ho és, que et digui quants elements té."
   ]
  },
  {
   "cell_type": "code",
   "execution_count": 4,
   "metadata": {},
   "outputs": [
    {
     "name": "stdout",
     "output_type": "stream",
     "text": [
      "Es simetrica\n"
     ]
    }
   ],
   "source": [
    "my_list = [1,4,2,0,2,4,1]\n",
    "def simetric_list(lista):\n",
    "    reverselist = lista[::-1]\n",
    "    if reverselist == lista:\n",
    "        print('Es simetrica')\n",
    "    else:\n",
    "        print('No es simetrica')\n",
    "\n",
    "simetric_list(my_list)"
   ]
  },
  {
   "cell_type": "code",
   "execution_count": null,
   "metadata": {},
   "outputs": [],
   "source": [
    "- Exercici 5\n",
    "Crea un programa que donada una llista, et digui quants números coincideixen amb la seva posició.\n",
    "Per exemple [3,4,2,0,2,3,6] el 2 i el 6 coincideixen."
   ]
  },
  {
   "cell_type": "code",
   "execution_count": 12,
   "metadata": {},
   "outputs": [
    {
     "name": "stdout",
     "output_type": "stream",
     "text": [
      "2\n"
     ]
    }
   ],
   "source": [
    "other_list = [3,4,2,0,2,3,6]\n",
    "def con_posicion(lista):\n",
    "    contador = 0\n",
    "    for count, i in enumerate(lista):\n",
    "        if count == i:\n",
    "            contador = contador + 1\n",
    "    print(contador)\n",
    "con_posicion(other_list)\n",
    "    "
   ]
  }
 ],
 "metadata": {
  "kernelspec": {
   "display_name": "Python 3",
   "language": "python",
   "name": "python3"
  },
  "language_info": {
   "codemirror_mode": {
    "name": "ipython",
    "version": 3
   },
   "file_extension": ".py",
   "mimetype": "text/x-python",
   "name": "python",
   "nbconvert_exporter": "python",
   "pygments_lexer": "ipython3",
   "version": "3.8.5"
  }
 },
 "nbformat": 4,
 "nbformat_minor": 4
}
